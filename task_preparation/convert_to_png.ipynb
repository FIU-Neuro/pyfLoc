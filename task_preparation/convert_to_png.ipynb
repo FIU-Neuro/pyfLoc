{
 "cells": [
  {
   "cell_type": "markdown",
   "metadata": {},
   "source": [
    "The specific versions of PsychoPy and dependencies on the stimulus computer seem to have problems with grayscale (2D) images, so we convert them to RGB (3D) ones."
   ]
  },
  {
   "cell_type": "code",
   "execution_count": 1,
   "metadata": {},
   "outputs": [],
   "source": [
    "import os\n",
    "import os.path as op\n",
    "\n",
    "import imageio\n",
    "import numpy as np"
   ]
  },
  {
   "cell_type": "code",
   "execution_count": 2,
   "metadata": {},
   "outputs": [],
   "source": [
    "in_dir = op.abspath('../original_stimuli')\n",
    "out_dir = op.abspath('../stimuli')\n",
    "\n",
    "for root, folders, files in os.walk(in_dir, topdown=True):\n",
    "    for folder in sorted(folders):\n",
    "        full_path = op.join(root, folder)\n",
    "        out_path = full_path.replace(in_dir, out_dir)\n",
    "        if not op.isdir(out_path):\n",
    "            os.makedirs(out_path)\n",
    "    \n",
    "    for f in sorted(files):\n",
    "        if f.endswith('.jpg'):\n",
    "            full_file = op.join(root, f)\n",
    "            out_file = full_file.replace('.jpg', '.png').replace(in_dir, out_dir)\n",
    "            if not op.isfile(out_file):\n",
    "                img = imageio.imread(full_file)\n",
    "                # convert to RGB\n",
    "                if img.ndim == 2:\n",
    "                    out_img = np.stack((img,)*4, axis=-1)\n",
    "                    out_img[..., -1] = 255\n",
    "                else:\n",
    "                    out_img = img.copy()\n",
    "\n",
    "                imageio.imwrite(out_file, out_img)"
   ]
  }
 ],
 "metadata": {
  "kernelspec": {
   "display_name": "Python [conda env:python3]",
   "language": "python",
   "name": "conda-env-python3-py"
  },
  "language_info": {
   "codemirror_mode": {
    "name": "ipython",
    "version": 3
   },
   "file_extension": ".py",
   "mimetype": "text/x-python",
   "name": "python",
   "nbconvert_exporter": "python",
   "pygments_lexer": "ipython3",
   "version": "3.6.4"
  }
 },
 "nbformat": 4,
 "nbformat_minor": 2
}
